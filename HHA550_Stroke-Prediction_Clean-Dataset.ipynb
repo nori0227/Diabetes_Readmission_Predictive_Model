{
 "cells": [
  {
   "cell_type": "markdown",
   "id": "c804435d",
   "metadata": {},
   "source": [
    "# HHA550_Stroke Prediction Dataset\n",
    "\n",
    "## Healtcare-dataset-stroke-data\n",
    "\n",
    "#### (Check Modules folders for csv and ipynb for each class)"
   ]
  },
  {
   "cell_type": "markdown",
   "id": "cdf8f594",
   "metadata": {},
   "source": [
    "# DATA\n",
    "## Stroke Prediction Dataset\n"
   ]
  },
  {
   "cell_type": "markdown",
   "id": "8ab60656",
   "metadata": {},
   "source": [
    "#### \n",
    "Context\n",
    "\n",
    "According to the World Health Organization (WHO) stroke is the 2nd leading cause of death globally, responsible for approximately 11% of total deaths. This dataset is used to predict whether a patient is likely to get stroke based on the input parameters like gender, age, various diseases, and smoking status. Each row in the data provides relavant information about the patient.\n",
    "\n",
    "Attribute Information\n",
    "\n",
    "    1) id: unique identifier\n",
    "\n",
    "    2) gender: \"Male\", \"Female\" or \"Other\"\n",
    "\n",
    "    3) age: age of the patient\n",
    "\n",
    "    4) hypertension: 0 if the patient doesn't have hypertension, 1 if the patient has hypertension\n",
    "\n",
    "    5) heart_disease: 0 if the patient doesn't have any heart diseases, 1 if the patient has a heart disease\n",
    "\n",
    "    6) ever_married: \"No\" or \"Yes\"\n",
    "\n",
    "    7) work_type: \"children\", \"Govt_jov\", \"Never_worked\", \"Private\" or \"Self-employed\"\n",
    "\n",
    "    8) Residence_type: \"Rural\" or \"Urban\"\n",
    "\n",
    "    9) avg_glucose_level: average glucose level in blood\n",
    "\n",
    "    10) bmi: body mass index\n",
    "\n",
    "    11) smoking_status: \"formerly smoked\", \"never smoked\", \"smokes\" or \"Unknown\"*\n",
    "\n",
    "    12) stroke: 1 if the patient had a stroke or 0 if not\n",
    "\n",
    "*Note: \"Unknown\" in smoking_status means that the information is unavailable for this patient"
   ]
  },
  {
   "cell_type": "markdown",
   "id": "7ac477eb",
   "metadata": {},
   "source": [
    "# .CSV Data\n",
    "### Healtcare-dataset-stroke-data.csv"
   ]
  },
  {
   "cell_type": "markdown",
   "id": "d3d98fc5",
   "metadata": {},
   "source": [
    "# IMPORTING Everthing"
   ]
  },
  {
   "cell_type": "code",
   "execution_count": 1,
   "id": "a10f0b17",
   "metadata": {},
   "outputs": [],
   "source": [
    "# Commands to install some of the libraries in-case if they are not installed\n",
    "# Any other library that needs to be installed just use: !pip install <library name>\n",
    "# !pip install seaborn\n",
    "# !pip install missingno\n",
    "# !pip install xgboost\n",
    "# !pip install catboost\n",
    "# !pip install regex\n",
    "# !pip install sklearn\n",
    "# !pip install pandas\n",
    "# !pip install numpy\n",
    "# !pip install imblearn\n",
    "# !pip install lightgbm"
   ]
  },
  {
   "cell_type": "code",
   "execution_count": null,
   "id": "4e845f77",
   "metadata": {},
   "outputs": [],
   "source": [
    "import pandas as pd   # data processing, CSV file I/O (e.g. pd.read_csv)\n",
    "import numpy as np   # linear algebra\n",
    "import matplotlib.pyplot as plt  #graphs and plots\n",
    "import seaborn as sns   #data visualizations \n",
    "import csv # Some extra functionalities for csv  files - reading it as a dictionary\n",
    "from lightgbm import LGBMClassifier #sklearn is for machine learning and statistical modeling including classification, regression, clustering and dimensionality reduction \n",
    "\n",
    "from sklearn.model_selection import train_test_split, cross_validate   #break up dataset into train and test sets\n",
    "\n",
    "from sklearn.linear_model import LogisticRegression\n",
    "from sklearn.ensemble import RandomForestClassifier\n",
    "from sklearn.model_selection import cross_val_score\n",
    "from sklearn.preprocessing import StandardScaler, MinMaxScaler\n",
    "\n",
    "\n",
    "# importing python library for working with missing data\n",
    "import missingno as msno\n",
    "# To install missingno use: !pip install missingno\n",
    "import re    # This library is used to perform regex pattern matching\n",
    "\n",
    "# import various functions from sklearn\n",
    "from sklearn.linear_model import LogisticRegression\n",
    "from sklearn.neighbors import KNeighborsClassifier\n",
    "from sklearn.tree import DecisionTreeClassifier\n",
    "from sklearn.ensemble import RandomForestClassifier\n",
    "from sklearn.svm import LinearSVC\n",
    "from sklearn.ensemble import GradientBoostingClassifier\n",
    "from catboost import CatBoostClassifier\n",
    "import xgboost as xgb\n",
    "from sklearn.metrics import roc_auc_score, accuracy_score, precision_score, recall_score, classification_report, make_scorer\n",
    "from sklearn.linear_model import SGDClassifier\n",
    "from sklearn.model_selection import GridSearchCV, RandomizedSearchCV, train_test_split"
   ]
  },
  {
   "cell_type": "markdown",
   "id": "910c0044",
   "metadata": {},
   "source": [
    "Import additional items as needed...\n",
    "We may not use them all in this course..."
   ]
  },
  {
   "cell_type": "code",
   "execution_count": 3,
   "id": "ee3d031a",
   "metadata": {},
   "outputs": [],
   "source": [
    "from sklearn.model_selection import KFold,cross_val_score, RepeatedStratifiedKFold,StratifiedKFold\n",
    "from sklearn.impute import SimpleImputer\n",
    "from sklearn.pipeline import Pipeline\n",
    "from sklearn.discriminant_analysis import LinearDiscriminantAnalysis\n",
    "from sklearn.preprocessing import OneHotEncoder,StandardScaler,PowerTransformer\n",
    "from sklearn.compose import ColumnTransformer\n",
    "from sklearn.pipeline import Pipeline\n",
    "from sklearn.impute import KNNImputer,SimpleImputer\n",
    "from sklearn.compose import make_column_transformer\n",
    "from imblearn.pipeline import make_pipeline\n",
    "from sklearn.svm import SVC\n",
    "from sklearn.impute import SimpleImputer\n",
    "from sklearn.dummy import DummyClassifier\n",
    "from imblearn.over_sampling import SMOTE\n",
    "from sklearn.neighbors import KNeighborsClassifier\n",
    "from sklearn.metrics import confusion_matrix, accuracy_score, balanced_accuracy_score,\\\n",
    "                            precision_score, recall_score, roc_auc_score,\\\n",
    "                            plot_confusion_matrix, classification_report, plot_roc_curve, f1_score\n",
    "\n",
    "import plotly \n",
    "import plotly.express as px\n",
    "import plotly.graph_objs as go\n",
    "import plotly.offline as py\n",
    "from plotly.offline import iplot\n",
    "from plotly.subplots import make_subplots\n",
    "import plotly.figure_factory as ff\n",
    "\n",
    "import warnings\n",
    "warnings.filterwarnings(\"ignore\")"
   ]
  },
  {
   "cell_type": "markdown",
   "id": "9136179d",
   "metadata": {},
   "source": [
    "* If from imblearn.oversampling import SMOTE does not load use\n",
    "    `conda install -c conda-forge imbalanced-learn`\n",
    "* Then rerun\n",
    "    `from imblearn.over_sampling import SMOTE`"
   ]
  },
  {
   "cell_type": "markdown",
   "id": "eb1b5bfa",
   "metadata": {},
   "source": [
    "# Exploratory Data Analysis (EDA)"
   ]
  },
  {
   "cell_type": "markdown",
   "id": "2fe20041",
   "metadata": {},
   "source": [
    "## Start with Loading the CSV Data"
   ]
  },
  {
   "cell_type": "code",
   "execution_count": 4,
   "id": "def56f62",
   "metadata": {},
   "outputs": [],
   "source": [
    "#upload the csv and declare its name to = the csv\n",
    "#for this course we will name the dataframe 'stroke', but you can change it to df or anything else you want.\n",
    "\n",
    "#Find the file path to the .csv\n",
    "    #Then use code below to read .csv\n",
    "# stroke = pd.read_csv('x')\n",
    "\n",
    "#for PC file path will use /  \n",
    "         #Original PC file path 'C:\\Users\\kaden\\Desktop\\HHA550_Stroke_Data\\healthcare-dataset-stroke-data.csv'\n",
    "         #Change PC file path for Python to C:/Users/kaden/Desktop/Python_Diabetes Dataset/dataset_diabetes/diabetic_data.csv'\n",
    "    #for MAC file path will use //\n",
    "         #Original MAC file path 'C://Users//kaden//Desktop//HHA550_Stroke_Data//healthcare-dataset-stroke-data.csv'\n",
    "         #Change MAC file path for Python to 'C://Users//kaden//Desktop//HHA550_Stroke_Data//healthcare-dataset-stroke-data.csv'\n",
    "\n",
    "#for PC (running PC for this example)\n",
    "# stroke = pd.read_csv('C:/Users/kaden/Desktop/HHA550_Stroke_Data/healthcare-dataset-stroke-data.csv')\n",
    "stroke = pd.read_csv('healthcare-dataset-stroke-data(clean_dataset).csv')\n",
    "\n",
    "#for MAC\n",
    "#stroke = pd.read_csv('C://Users//kaden//Desktop//HHA550_Stroke_Data//healthcare-dataset-stroke-data.csv')"
   ]
  },
  {
   "cell_type": "markdown",
   "id": "0d3afce7",
   "metadata": {},
   "source": [
    "# Breaking the data up into Train & Test"
   ]
  },
  {
   "cell_type": "code",
   "execution_count": 5,
   "id": "23150ab7",
   "metadata": {},
   "outputs": [],
   "source": [
    "train_df, valid_df, test_df = np.split(stroke.sample(frac=1, random_state=42), \n",
    "                                       [int(.7*len(stroke)), int(0.85*len(stroke))])\n",
    "train_df = train_df.reset_index(drop = True)\n",
    "valid_df = valid_df.reset_index(drop = True)\n",
    "test_df = test_df.reset_index(drop = True)"
   ]
  },
  {
   "cell_type": "code",
   "execution_count": 6,
   "id": "ae84eff3",
   "metadata": {},
   "outputs": [
    {
     "data": {
      "text/plain": [
       "0    4861\n",
       "1     249\n",
       "Name: stroke, dtype: int64"
      ]
     },
     "execution_count": 6,
     "metadata": {},
     "output_type": "execute_result"
    }
   ],
   "source": [
    "stroke.stroke.value_counts()"
   ]
  },
  {
   "cell_type": "code",
   "execution_count": 7,
   "id": "689c1912",
   "metadata": {},
   "outputs": [
    {
     "data": {
      "text/plain": [
       "0    3404\n",
       "1     173\n",
       "Name: stroke, dtype: int64"
      ]
     },
     "execution_count": 7,
     "metadata": {},
     "output_type": "execute_result"
    }
   ],
   "source": [
    "train_df.stroke.value_counts()"
   ]
  },
  {
   "cell_type": "code",
   "execution_count": 8,
   "id": "546fc97f",
   "metadata": {},
   "outputs": [
    {
     "data": {
      "text/plain": [
       "0    726\n",
       "1     40\n",
       "Name: stroke, dtype: int64"
      ]
     },
     "execution_count": 8,
     "metadata": {},
     "output_type": "execute_result"
    }
   ],
   "source": [
    "valid_df.stroke.value_counts()"
   ]
  },
  {
   "cell_type": "code",
   "execution_count": 9,
   "id": "6d1b8408",
   "metadata": {},
   "outputs": [
    {
     "data": {
      "text/plain": [
       "0    731\n",
       "1     36\n",
       "Name: stroke, dtype: int64"
      ]
     },
     "execution_count": 9,
     "metadata": {},
     "output_type": "execute_result"
    }
   ],
   "source": [
    "test_df.stroke.value_counts()"
   ]
  },
  {
   "cell_type": "markdown",
   "id": "0cad6054",
   "metadata": {},
   "source": [
    "# Treating the Imbalance in the Data"
   ]
  },
  {
   "cell_type": "markdown",
   "id": "b80ce827",
   "metadata": {},
   "source": [
    "Imbalance in the data means that one of the classes in the data is too less as compared to the others. Typically, it is better to balance the data in some way to give the positives more weight. There are 3 strategies that are typically utilized:\n",
    "\n",
    "* Sub-sample the more dominant class: use a random subset of the negatives\n",
    "* Over-sample the imbalanced class: use the same positive samples multiple times\n",
    "* Create synthetic positive data\n",
    "\n",
    "Usually, you will want to use the latter two methods if you only have a handful of positive cases. Since we have a few thousand positive cases, let's use the sub-sample approach. Here, we will create a balanced training data set that has 50% positive and 50% negative. You can also play with this ratio to see if you can get an improvement."
   ]
  },
  {
   "cell_type": "code",
   "execution_count": 10,
   "id": "c7d35fb6",
   "metadata": {},
   "outputs": [],
   "source": [
    "def calc_prevalence(y_actual):\n",
    "    \n",
    "    '''\n",
    "    This function is to understand the ratio/distribution of the classes that we are going to predict for.\n",
    "    \n",
    "    Params:\n",
    "    1. y_actual: The target feature\n",
    "    \n",
    "    Return:\n",
    "    1. (sum(y_actual)/len(y_actual)): The ratio of the postive class in the comlpete data.\n",
    "    '''\n",
    "    \n",
    "    return (sum(y_actual)/len(y_actual))"
   ]
  },
  {
   "cell_type": "code",
   "execution_count": 11,
   "id": "6a9dfc36",
   "metadata": {},
   "outputs": [
    {
     "name": "stdout",
     "output_type": "stream",
     "text": [
      "Train balanced prevalence(n = 346):0.500\n"
     ]
    }
   ],
   "source": [
    "# split the training data into positive and negative\n",
    "rows_pos = train_df.stroke == 1\n",
    "df_train_pos = train_df.loc[rows_pos]\n",
    "df_train_neg = train_df.loc[~rows_pos]\n",
    "\n",
    "# merge the balanced data\n",
    "stroke_df_balanced = pd.concat([df_train_pos, df_train_neg.sample(n = len(df_train_pos), random_state = 111)],axis = 0)\n",
    "\n",
    "# shuffle the order of training samples \n",
    "stroke_df_balanced = stroke_df_balanced.sample(n = len(stroke_df_balanced), random_state = 42).reset_index(drop = True)\n",
    "\n",
    "print('Train balanced prevalence(n = %d):%.3f'%(len(stroke_df_balanced), \\\n",
    "                                                calc_prevalence(stroke_df_balanced.stroke.values)))"
   ]
  },
  {
   "cell_type": "code",
   "execution_count": 12,
   "id": "938bbaef",
   "metadata": {},
   "outputs": [
    {
     "data": {
      "text/plain": [
       "1    173\n",
       "0    173\n",
       "Name: stroke, dtype: int64"
      ]
     },
     "execution_count": 12,
     "metadata": {},
     "output_type": "execute_result"
    }
   ],
   "source": [
    "stroke_df_balanced.stroke.value_counts()"
   ]
  },
  {
   "cell_type": "code",
   "execution_count": 13,
   "id": "7590ce92",
   "metadata": {},
   "outputs": [],
   "source": [
    "X_train = stroke_df_balanced.drop('stroke',axis=1)\n",
    "\n",
    "y_train = stroke_df_balanced['stroke']\n",
    "\n",
    "X_valid = valid_df.drop('stroke',axis=1)\n",
    "\n",
    "y_valid = valid_df['stroke']\n",
    "\n",
    "X_test = test_df.drop('stroke',axis=1)\n",
    "\n",
    "y_test = test_df['stroke']"
   ]
  },
  {
   "cell_type": "code",
   "execution_count": 15,
   "id": "37b5c305",
   "metadata": {},
   "outputs": [],
   "source": [
    "scaler=StandardScaler()\n",
    "X_train[['age', 'bmi', 'avg_glucose_level']] = pd.DataFrame(scaler.fit_transform(X_train[['age', 'bmi', 'avg_glucose_level']]),columns=['age', 'bmi', 'avg_glucose_level'])\n",
    "X_valid[['age', 'bmi', 'avg_glucose_level']] = pd.DataFrame(scaler.transform(X_valid[['age', 'bmi', 'avg_glucose_level']]),columns=['age', 'bmi', 'avg_glucose_level'])\n",
    "X_test[['age', 'bmi', 'avg_glucose_level']] = pd.DataFrame(scaler.transform(X_test[['age', 'bmi', 'avg_glucose_level']]),columns=['age', 'bmi', 'avg_glucose_level'])"
   ]
  },
  {
   "cell_type": "markdown",
   "id": "9b1e5723",
   "metadata": {},
   "source": [
    "# Creating and Understanding Models"
   ]
  },
  {
   "cell_type": "code",
   "execution_count": 16,
   "id": "ecf8b577",
   "metadata": {},
   "outputs": [],
   "source": [
    "def calc_specificity(y_actual, y_pred, thresh):\n",
    "    # calculates specificity\n",
    "    return sum((y_pred < thresh) & (y_actual == 0)) /sum(y_actual ==0)\n",
    "\n",
    "def print_report(y_actual, y_pred, thresh = 0.5):\n",
    "    \n",
    "    '''\n",
    "    This function calculates all the metrics to asses the machine learning models.\n",
    "    \n",
    "    Params:\n",
    "    1. y_actual: The actual values for the target variable.\n",
    "    2. y_pred: The predicted values for the target variable.\n",
    "    3. thresh: The threshold for the probability to be considered as a positive class. Default value 0.5\n",
    "    \n",
    "    Return:\n",
    "    1. AUC\n",
    "    2. Accuracy\n",
    "    3. Recall\n",
    "    4. Precision\n",
    "    5. Specificity\n",
    "    '''\n",
    "    \n",
    "    auc = roc_auc_score(y_actual, y_pred)\n",
    "    accuracy = accuracy_score(y_actual, (y_pred > thresh))\n",
    "    recall = recall_score(y_actual, (y_pred > thresh))\n",
    "    precision = precision_score(y_actual, (y_pred > thresh))\n",
    "    specificity = calc_specificity(y_actual, y_pred, thresh)\n",
    "    print('AUC:%.3f'%auc)\n",
    "    print('accuracy:%.3f'%accuracy)\n",
    "    print('recall:%.3f'%recall)\n",
    "    print('precision:%.3f'%precision)\n",
    "    print('specificity:%.3f'%specificity)\n",
    "    print('prevalence:%.3f'%calc_prevalence(y_actual))\n",
    "    print(' ')\n",
    "    return auc, accuracy, recall, precision, specificity"
   ]
  },
  {
   "cell_type": "markdown",
   "id": "3ba8c8ea",
   "metadata": {},
   "source": [
    "## Linear Regression"
   ]
  },
  {
   "cell_type": "code",
   "execution_count": null,
   "id": "d02dbec4",
   "metadata": {},
   "outputs": [],
   "source": [
    "lnr = LinearRegression()\n",
    "lnr.fit(X_train, y_train)\n",
    "\n",
    "y_valid_preds = lnr.predict(X_valid)"
   ]
  },
  {
   "cell_type": "code",
   "execution_count": null,
   "id": "ef7f15a8",
   "metadata": {},
   "outputs": [],
   "source": [
    "y_valid_preds"
   ]
  },
  {
   "cell_type": "markdown",
   "id": "457c7731",
   "metadata": {},
   "source": [
    "## Logistic Regression"
   ]
  },
  {
   "cell_type": "code",
   "execution_count": 17,
   "id": "5086c49a",
   "metadata": {},
   "outputs": [
    {
     "name": "stdout",
     "output_type": "stream",
     "text": [
      "Metrics for Validation data:\n",
      "AUC:0.823\n",
      "accuracy:0.738\n",
      "recall:0.750\n",
      "precision:0.136\n",
      "specificity:0.737\n",
      "prevalence:0.052\n",
      " \n"
     ]
    }
   ],
   "source": [
    "lr=LogisticRegression(random_state = 42, solver = 'newton-cg', max_iter = 200)\n",
    "lr.fit(X_train, y_train)\n",
    "\n",
    "y_valid_preds = lr.predict_proba(X_valid)[:,1]\n",
    "\n",
    "print('Metrics for Validation data:')\n",
    "\n",
    "lr_valid_auc, lr_valid_accuracy, lr_valid_recall, \\\n",
    "    lr_valid_precision, lr_valid_specificity = print_report(y_valid,y_valid_preds, 0.5)"
   ]
  },
  {
   "cell_type": "markdown",
   "id": "bdba01c6",
   "metadata": {},
   "source": [
    "## Explaining Results"
   ]
  },
  {
   "cell_type": "code",
   "execution_count": 1,
   "id": "a7f93713",
   "metadata": {},
   "outputs": [
    {
     "data": {
      "image/png": "[encoded data removed]",
      "text/plain": [
       "<IPython.core.display.Image object>"
      ]
     },
     "execution_count": 1,
     "metadata": {},
     "output_type": "execute_result"
    }
   ],
   "source": [
    "from IPython import display\n",
    "display.Image(\"C:/Users/kaden/Desktop/HHA550_Stroke_Data/Explaining_Results.png\")"
   ]
  },
  {
   "cell_type": "markdown",
   "id": "1dbc40ab",
   "metadata": {},
   "source": [
    "#### AUC (area under the curve)\n",
    "* values 0 to 1\n",
    "* higher the AUC (closer to \"1\"), the better the performace of the model at distinguishing between the positive and negative clases.\n",
    "\n",
    "#### Precision\n",
    "* ratio between the correct predecitions and the total predicitons\n",
    "* indicates how good is the model at watever it predicts\n",
    "\n",
    "#### Recall\n",
    "* (Sensitivity)\n",
    "* Precision = TP/TP+F \n",
    "* Precision is the ratio of correctly predicted positive observations to the total predicted positive observations\n",
    "\n",
    "#### f1-score \n",
    "* F1 Score = 2*(Recall * Precision) / (Recall + Precision)\n",
    "* is the weighted average of Precision and Recall. Therefore, this score takes both false positives and false negatives into account. Intuitively it is not as easy to understand as accuracy, but F1 is usually more useful than accuracy\n",
    "\n",
    "#### Support\n",
    "* positive counts (values)\n",
    "\n",
    "#### Accuracy\n",
    "* how close a measurement is to the true value\n",
    "* Accuracy = TP+TN/TP+FP+FN+TN\n",
    "* is simply a ratio of correctly predicted observation to the total observations.\n",
    "\n",
    "#### Macro avg\n",
    "* all classes equally contribute to the final averaged metric\n",
    "\n",
    "#### Weighted avg\n",
    "* each classes’s contribution to the average is weighted by its size\n",
    "\n",
    "#### Important Insights into Results\n",
    "* If on average, your measurements for a given substance are close to the known value, but the measurements are far from each other, then you have accuracy without precision\n",
    "* Which is better accuracy or precision?\n",
    "** Accuracy is something you can fix in future measurements. Precision is more important in calculations. When using a measured value in a calculation, you can only be as precise as your least precise measurement\n",
    "* Is precision more important than recall?\n",
    "** Recall is more important where Overlooked Cases (False Negatives) are more costly than False Alarms (False Positive). Precision is more important where False Alarms (False Positives) are more costly than Overlooked Cases (False Negatives). The focus in these problems is in weeding out the negative cases.\n",
    "* F1 Score might be a better measure to use if we need to seek a balance between Precision and Recall AND there is an uneven class distribution (large number of Actual Negatives).\n",
    "\n",
    "\n",
    "#### Helpful Links\n",
    "* https://towardsdatascience.com/choosing-performance-metrics-61b40819eae1#:~:text=The%20macro%20average%20precision%20is,less%20in%20the%20weighted%20average. \n",
    "* https://towardsdatascience.com/accuracy-precision-recall-or-f1-331fb37c5cb9 \n",
    "* https://www.mariakhalusova.com/posts/2019-04-17-ml-model-evaluation-metrics-p2/#:~:text=Micro%2Daveraged%3A%20all%20samples%20equally,is%20weighted%20by%20its%20size"
   ]
  },
  {
   "cell_type": "markdown",
   "id": "db547a52",
   "metadata": {},
   "source": [
    "### Summary of Results (what is the most important?)\n",
    "#### Logistic Regression vs Linear Regression results\n",
    "* As per our use case we need the results to be classes i.e. Stroke or No-Stroke for which we need a model that works on classification.\n",
    "* Using the Linear Regression as seen above is not giving us the results as 0 or 1 instead it is giving us the results in numerical form. The internal logic of linear regression does not work output the probability it just tries to get the output as close to the target in the training data. Whereas the logistic regression model works on probability principle.\n",
    "* Linear regression would try to fit the data if it can be fit using straight line. If we just use regression then it can try to fit a curved surface too. Whereas the graph of Logistic regression takes the shape of a sigmoid. See the pictures below."
   ]
  },
  {
   "cell_type": "markdown",
   "id": "548b0fc4",
   "metadata": {},
   "source": [
    "<p>\n",
    "<img src = \"LinearRegression.PNG\">\n",
    "</p>\n",
    "\n",
    "<b><center>Analytics Vidhya - Fig.1 - Linear Regression Example</center></b>"
   ]
  },
  {
   "cell_type": "markdown",
   "id": "3368963d",
   "metadata": {},
   "source": [
    "<p>\n",
    "<img src = \"LogisticRegression.PNG\">\n",
    "</p>\n",
    "\n",
    "<b><center>Analytics Vidhya - Fig.2 - Logistic Regression Example</center></b>"
   ]
  },
  {
   "cell_type": "markdown",
   "id": "4691cdbb",
   "metadata": {},
   "source": [
    "Lets look at some other models to see if we get better results."
   ]
  },
  {
   "cell_type": "markdown",
   "id": "3555e949",
   "metadata": {},
   "source": [
    "## KNN Model"
   ]
  },
  {
   "cell_type": "code",
   "execution_count": 19,
   "id": "cba627ad",
   "metadata": {},
   "outputs": [
    {
     "name": "stdout",
     "output_type": "stream",
     "text": [
      "AUC:0.812\n",
      "accuracy:0.713\n",
      "recall:0.775\n",
      "precision:0.128\n",
      "specificity:0.698\n",
      "prevalence:0.052\n",
      " \n"
     ]
    }
   ],
   "source": [
    "knn = KNeighborsClassifier(n_neighbors = 100)\n",
    "knn.fit(X_train, y_train)\n",
    "\n",
    "knn_preds = knn.predict_proba(X_valid)[:,1]\n",
    "\n",
    "lr_valid_auc, lr_valid_accuracy, lr_valid_recall, \\\n",
    "    lr_valid_precision, lr_valid_specificity = print_report(y_valid,knn_preds, 0.5)"
   ]
  },
  {
   "cell_type": "markdown",
   "id": "f2268172",
   "metadata": {},
   "source": [
    "## Stochastic Gradient Descent Model"
   ]
  },
  {
   "cell_type": "code",
   "execution_count": 20,
   "id": "167f592a",
   "metadata": {},
   "outputs": [
    {
     "name": "stdout",
     "output_type": "stream",
     "text": [
      "Stochastic Gradient Descent\n",
      "Validation:\n",
      "AUC:0.825\n",
      "accuracy:0.731\n",
      "recall:0.775\n",
      "precision:0.136\n",
      "specificity:0.729\n",
      "prevalence:0.052\n",
      " \n"
     ]
    }
   ],
   "source": [
    "sgdc=SGDClassifier(loss = 'log',alpha = 0.1,random_state = 42)\n",
    "sgdc.fit(X_train, y_train)\n",
    "\n",
    "sgd_preds = sgdc.predict_proba(X_valid)[:,1]\n",
    "\n",
    "print('Stochastic Gradient Descent')\n",
    "print('Validation:')\n",
    "sgdc_valid_auc, sgdc_valid_accuracy, sgdc_valid_recall, \\\n",
    "                sgdc_valid_precision, sgdc_valid_specificity = print_report(y_valid,sgd_preds, 0.5)"
   ]
  },
  {
   "cell_type": "markdown",
   "id": "4e841c95",
   "metadata": {},
   "source": [
    "## Decision Tree"
   ]
  },
  {
   "cell_type": "code",
   "execution_count": 21,
   "id": "5c524b7f",
   "metadata": {},
   "outputs": [
    {
     "name": "stdout",
     "output_type": "stream",
     "text": [
      "AUC:0.641\n",
      "accuracy:0.680\n",
      "recall:0.600\n",
      "precision:0.095\n",
      "specificity:0.685\n",
      "prevalence:0.052\n",
      " \n"
     ]
    }
   ],
   "source": [
    "dc_clf = DecisionTreeClassifier(random_state=42, max_depth = 10)\n",
    "dc_clf.fit(X_train, y_train)\n",
    "\n",
    "dc_preds_proba = dc_clf.predict_proba(X_valid)[:,1]\n",
    "dc_preds = dc_clf.predict(X_valid)\n",
    "\n",
    "lr_valid_auc, lr_valid_accuracy, lr_valid_recall, \\\n",
    "    lr_valid_precision, lr_valid_specificity = print_report(y_valid,dc_preds_proba, 0.5)"
   ]
  },
  {
   "cell_type": "markdown",
   "id": "a24a7e5b",
   "metadata": {},
   "source": [
    "## Random Forest"
   ]
  },
  {
   "cell_type": "code",
   "execution_count": 22,
   "id": "009ae20e",
   "metadata": {},
   "outputs": [
    {
     "name": "stdout",
     "output_type": "stream",
     "text": [
      "AUC:0.822\n",
      "accuracy:0.719\n",
      "recall:0.750\n",
      "precision:0.128\n",
      "specificity:0.718\n",
      "prevalence:0.052\n",
      " \n"
     ]
    }
   ],
   "source": [
    "rf_clf = RandomForestClassifier(random_state=111, max_depth = 6)\n",
    "\n",
    "rf_clf.fit(X_train, y_train)\n",
    "\n",
    "rf_preds = rf_clf.predict(X_valid)\n",
    "rf_preds_proba = rf_clf.predict_proba(X_valid)[:, 1]\n",
    "\n",
    "lr_valid_auc, lr_valid_accuracy, lr_valid_recall, \\\n",
    "    lr_valid_precision, lr_valid_specificity = print_report(y_valid,rf_preds_proba, 0.5)"
   ]
  },
  {
   "cell_type": "markdown",
   "id": "984ea500",
   "metadata": {},
   "source": [
    "## Linear SVC"
   ]
  },
  {
   "cell_type": "code",
   "execution_count": 23,
   "id": "893e28ff",
   "metadata": {},
   "outputs": [
    {
     "name": "stdout",
     "output_type": "stream",
     "text": [
      "AUC:0.820\n",
      "accuracy:0.858\n",
      "recall:0.450\n",
      "precision:0.171\n",
      "specificity:0.880\n",
      "prevalence:0.052\n",
      " \n"
     ]
    }
   ],
   "source": [
    "lsvc_clf = LinearSVC(random_state=111)\n",
    "lsvc_clf.fit(X_train, y_train)\n",
    "\n",
    "lsvc_preds = lsvc_clf.decision_function(X_valid)\n",
    "\n",
    "lr_valid_auc, lr_valid_accuracy, lr_valid_recall, \\\n",
    "    lr_valid_precision, lr_valid_specificity = print_report(y_valid,lsvc_preds, 0.5)"
   ]
  },
  {
   "cell_type": "markdown",
   "id": "1d2d1087",
   "metadata": {},
   "source": [
    "## Gradient Boosting Model"
   ]
  },
  {
   "cell_type": "code",
   "execution_count": 24,
   "id": "c6e1e3d5",
   "metadata": {},
   "outputs": [
    {
     "name": "stdout",
     "output_type": "stream",
     "text": [
      "AUC:0.798\n",
      "accuracy:0.726\n",
      "recall:0.675\n",
      "precision:0.121\n",
      "specificity:0.729\n",
      "prevalence:0.052\n",
      " \n"
     ]
    }
   ],
   "source": [
    "gb_clf = GradientBoostingClassifier(n_estimators = 100, criterion='friedman_mse', learning_rate = 1.0, max_depth = 3,\\\n",
    "                                    random_state = 111)\n",
    "\n",
    "gb_clf.fit(X_train, y_train)\n",
    "gb_preds = gb_clf.predict(X_valid)\n",
    "gb_preds_proba = gb_clf.predict_proba(X_valid)[:, 1]\n",
    "\n",
    "lr_valid_auc, lr_valid_accuracy, lr_valid_recall, \\\n",
    "    lr_valid_precision, lr_valid_specificity = print_report(y_valid,gb_preds_proba, 0.5)"
   ]
  },
  {
   "cell_type": "markdown",
   "id": "bdfe0a53",
   "metadata": {},
   "source": [
    "## XGB Model"
   ]
  },
  {
   "cell_type": "code",
   "execution_count": 25,
   "id": "83f18546",
   "metadata": {},
   "outputs": [
    {
     "name": "stdout",
     "output_type": "stream",
     "text": [
      "AUC:0.817\n",
      "accuracy:0.722\n",
      "recall:0.725\n",
      "precision:0.126\n",
      "specificity:0.722\n",
      "prevalence:0.052\n",
      " \n"
     ]
    }
   ],
   "source": [
    "xgb_clf = xgb.XGBClassifier(max_depth=3, learning_rate = 1.0, use_label_encoder = False,\\\n",
    "                            eval_metric = 'logloss')\n",
    "xgb_clf.fit(X_train, y_train)\n",
    "\n",
    "xgb_preds = xgb_clf.predict(X_valid)\n",
    "xgb_preds_proba = xgb_clf.predict_proba(X_valid)[:, 1]\n",
    "\n",
    "lr_valid_auc, lr_valid_accuracy, lr_valid_recall, \\\n",
    "    lr_valid_precision, lr_valid_specificity = print_report(y_valid,xgb_preds_proba, 0.5)"
   ]
  },
  {
   "cell_type": "markdown",
   "id": "70bc6c12",
   "metadata": {},
   "source": [
    "## Catboost Model"
   ]
  },
  {
   "cell_type": "code",
   "execution_count": 26,
   "id": "bbba6d6d",
   "metadata": {
    "scrolled": true
   },
   "outputs": [
    {
     "name": "stdout",
     "output_type": "stream",
     "text": [
      "0:\tlearn: 0.5064841\ttotal: 115ms\tremaining: 22.8s\n",
      "1:\tlearn: 0.4662750\ttotal: 117ms\tremaining: 11.6s\n",
      "2:\tlearn: 0.4474312\ttotal: 120ms\tremaining: 7.9s\n",
      "3:\tlearn: 0.4332415\ttotal: 123ms\tremaining: 6.04s\n",
      "4:\tlearn: 0.4164106\ttotal: 126ms\tremaining: 4.92s\n",
      "5:\tlearn: 0.3853243\ttotal: 129ms\tremaining: 4.17s\n",
      "6:\tlearn: 0.3592484\ttotal: 132ms\tremaining: 3.63s\n",
      "7:\tlearn: 0.3275688\ttotal: 135ms\tremaining: 3.23s\n",
      "8:\tlearn: 0.3205659\ttotal: 138ms\tremaining: 2.92s\n",
      "9:\tlearn: 0.3054361\ttotal: 140ms\tremaining: 2.67s\n",
      "10:\tlearn: 0.2849862\ttotal: 143ms\tremaining: 2.46s\n",
      "11:\tlearn: 0.2751173\ttotal: 146ms\tremaining: 2.29s\n",
      "12:\tlearn: 0.2609338\ttotal: 149ms\tremaining: 2.15s\n",
      "13:\tlearn: 0.2545338\ttotal: 152ms\tremaining: 2.02s\n",
      "14:\tlearn: 0.2454883\ttotal: 155ms\tremaining: 1.91s\n",
      "15:\tlearn: 0.2326937\ttotal: 158ms\tremaining: 1.81s\n",
      "16:\tlearn: 0.2245675\ttotal: 161ms\tremaining: 1.73s\n",
      "17:\tlearn: 0.2097930\ttotal: 164ms\tremaining: 1.66s\n",
      "18:\tlearn: 0.2014676\ttotal: 167ms\tremaining: 1.59s\n",
      "19:\tlearn: 0.1882524\ttotal: 170ms\tremaining: 1.53s\n",
      "20:\tlearn: 0.1841308\ttotal: 173ms\tremaining: 1.47s\n",
      "21:\tlearn: 0.1729305\ttotal: 176ms\tremaining: 1.42s\n",
      "22:\tlearn: 0.1666283\ttotal: 178ms\tremaining: 1.37s\n",
      "23:\tlearn: 0.1622269\ttotal: 181ms\tremaining: 1.33s\n",
      "24:\tlearn: 0.1544988\ttotal: 184ms\tremaining: 1.29s\n",
      "25:\tlearn: 0.1487052\ttotal: 187ms\tremaining: 1.25s\n",
      "26:\tlearn: 0.1447210\ttotal: 190ms\tremaining: 1.22s\n",
      "27:\tlearn: 0.1392505\ttotal: 193ms\tremaining: 1.18s\n",
      "28:\tlearn: 0.1327568\ttotal: 196ms\tremaining: 1.16s\n",
      "29:\tlearn: 0.1267381\ttotal: 199ms\tremaining: 1.13s\n",
      "30:\tlearn: 0.1202455\ttotal: 202ms\tremaining: 1.1s\n",
      "31:\tlearn: 0.1076965\ttotal: 205ms\tremaining: 1.07s\n",
      "32:\tlearn: 0.1012383\ttotal: 207ms\tremaining: 1.05s\n",
      "33:\tlearn: 0.1003613\ttotal: 210ms\tremaining: 1.03s\n",
      "34:\tlearn: 0.0997633\ttotal: 213ms\tremaining: 1s\n",
      "35:\tlearn: 0.0959914\ttotal: 216ms\tremaining: 985ms\n",
      "36:\tlearn: 0.0923943\ttotal: 219ms\tremaining: 965ms\n",
      "37:\tlearn: 0.0897263\ttotal: 222ms\tremaining: 946ms\n",
      "38:\tlearn: 0.0876326\ttotal: 225ms\tremaining: 928ms\n",
      "39:\tlearn: 0.0873118\ttotal: 228ms\tremaining: 910ms\n",
      "40:\tlearn: 0.0846695\ttotal: 231ms\tremaining: 894ms\n",
      "41:\tlearn: 0.0828538\ttotal: 233ms\tremaining: 878ms\n",
      "42:\tlearn: 0.0795826\ttotal: 236ms\tremaining: 862ms\n",
      "43:\tlearn: 0.0781015\ttotal: 239ms\tremaining: 847ms\n",
      "44:\tlearn: 0.0767115\ttotal: 242ms\tremaining: 832ms\n",
      "45:\tlearn: 0.0736288\ttotal: 245ms\tremaining: 819ms\n",
      "46:\tlearn: 0.0717118\ttotal: 247ms\tremaining: 805ms\n",
      "47:\tlearn: 0.0691369\ttotal: 250ms\tremaining: 793ms\n",
      "48:\tlearn: 0.0650195\ttotal: 253ms\tremaining: 780ms\n",
      "49:\tlearn: 0.0630419\ttotal: 256ms\tremaining: 768ms\n",
      "50:\tlearn: 0.0624425\ttotal: 259ms\tremaining: 755ms\n",
      "51:\tlearn: 0.0610756\ttotal: 262ms\tremaining: 747ms\n",
      "52:\tlearn: 0.0598482\ttotal: 266ms\tremaining: 738ms\n",
      "53:\tlearn: 0.0558882\ttotal: 269ms\tremaining: 728ms\n",
      "54:\tlearn: 0.0552817\ttotal: 272ms\tremaining: 717ms\n",
      "55:\tlearn: 0.0534397\ttotal: 275ms\tremaining: 707ms\n",
      "56:\tlearn: 0.0532878\ttotal: 278ms\tremaining: 697ms\n",
      "57:\tlearn: 0.0524034\ttotal: 281ms\tremaining: 688ms\n",
      "58:\tlearn: 0.0508530\ttotal: 284ms\tremaining: 679ms\n",
      "59:\tlearn: 0.0493983\ttotal: 287ms\tremaining: 670ms\n",
      "60:\tlearn: 0.0478032\ttotal: 290ms\tremaining: 661ms\n",
      "61:\tlearn: 0.0475509\ttotal: 293ms\tremaining: 652ms\n",
      "62:\tlearn: 0.0459395\ttotal: 296ms\tremaining: 643ms\n",
      "63:\tlearn: 0.0441825\ttotal: 299ms\tremaining: 635ms\n",
      "64:\tlearn: 0.0418886\ttotal: 302ms\tremaining: 627ms\n",
      "65:\tlearn: 0.0406695\ttotal: 305ms\tremaining: 620ms\n",
      "66:\tlearn: 0.0398599\ttotal: 308ms\tremaining: 612ms\n",
      "67:\tlearn: 0.0385122\ttotal: 312ms\tremaining: 606ms\n",
      "68:\tlearn: 0.0379931\ttotal: 316ms\tremaining: 599ms\n",
      "69:\tlearn: 0.0348968\ttotal: 319ms\tremaining: 592ms\n",
      "70:\tlearn: 0.0345770\ttotal: 322ms\tremaining: 586ms\n",
      "71:\tlearn: 0.0334652\ttotal: 325ms\tremaining: 578ms\n",
      "72:\tlearn: 0.0325547\ttotal: 329ms\tremaining: 572ms\n",
      "73:\tlearn: 0.0313928\ttotal: 331ms\tremaining: 564ms\n",
      "74:\tlearn: 0.0307085\ttotal: 334ms\tremaining: 557ms\n",
      "75:\tlearn: 0.0292329\ttotal: 337ms\tremaining: 551ms\n",
      "76:\tlearn: 0.0286747\ttotal: 342ms\tremaining: 546ms\n",
      "77:\tlearn: 0.0270416\ttotal: 345ms\tremaining: 539ms\n",
      "78:\tlearn: 0.0265990\ttotal: 348ms\tremaining: 532ms\n",
      "79:\tlearn: 0.0257828\ttotal: 351ms\tremaining: 526ms\n",
      "80:\tlearn: 0.0248910\ttotal: 354ms\tremaining: 520ms\n",
      "81:\tlearn: 0.0245840\ttotal: 357ms\tremaining: 514ms\n",
      "82:\tlearn: 0.0234615\ttotal: 361ms\tremaining: 508ms\n",
      "83:\tlearn: 0.0230806\ttotal: 363ms\tremaining: 502ms\n",
      "84:\tlearn: 0.0228864\ttotal: 367ms\tremaining: 496ms\n",
      "85:\tlearn: 0.0228863\ttotal: 369ms\tremaining: 490ms\n",
      "86:\tlearn: 0.0224458\ttotal: 373ms\tremaining: 484ms\n",
      "87:\tlearn: 0.0219380\ttotal: 375ms\tremaining: 478ms\n",
      "88:\tlearn: 0.0213992\ttotal: 379ms\tremaining: 473ms\n",
      "89:\tlearn: 0.0210725\ttotal: 382ms\tremaining: 467ms\n",
      "90:\tlearn: 0.0209159\ttotal: 386ms\tremaining: 462ms\n",
      "91:\tlearn: 0.0207558\ttotal: 389ms\tremaining: 457ms\n",
      "92:\tlearn: 0.0201388\ttotal: 392ms\tremaining: 451ms\n",
      "93:\tlearn: 0.0201384\ttotal: 395ms\tremaining: 445ms\n",
      "94:\tlearn: 0.0199916\ttotal: 398ms\tremaining: 440ms\n",
      "95:\tlearn: 0.0198929\ttotal: 402ms\tremaining: 435ms\n",
      "96:\tlearn: 0.0197888\ttotal: 405ms\tremaining: 430ms\n",
      "97:\tlearn: 0.0193782\ttotal: 408ms\tremaining: 424ms\n",
      "98:\tlearn: 0.0190861\ttotal: 411ms\tremaining: 419ms\n",
      "99:\tlearn: 0.0177619\ttotal: 416ms\tremaining: 416ms\n",
      "100:\tlearn: 0.0172989\ttotal: 419ms\tremaining: 411ms\n",
      "101:\tlearn: 0.0169975\ttotal: 422ms\tremaining: 405ms\n",
      "102:\tlearn: 0.0169639\ttotal: 425ms\tremaining: 400ms\n",
      "103:\tlearn: 0.0164300\ttotal: 428ms\tremaining: 395ms\n",
      "104:\tlearn: 0.0160058\ttotal: 431ms\tremaining: 390ms\n",
      "105:\tlearn: 0.0154853\ttotal: 434ms\tremaining: 385ms\n",
      "106:\tlearn: 0.0153902\ttotal: 437ms\tremaining: 380ms\n",
      "107:\tlearn: 0.0150876\ttotal: 440ms\tremaining: 375ms\n",
      "108:\tlearn: 0.0149736\ttotal: 443ms\tremaining: 370ms\n",
      "109:\tlearn: 0.0146465\ttotal: 446ms\tremaining: 365ms\n",
      "110:\tlearn: 0.0143356\ttotal: 449ms\tremaining: 360ms\n",
      "111:\tlearn: 0.0142484\ttotal: 453ms\tremaining: 356ms\n",
      "112:\tlearn: 0.0141147\ttotal: 456ms\tremaining: 351ms\n",
      "113:\tlearn: 0.0140625\ttotal: 459ms\tremaining: 346ms\n",
      "114:\tlearn: 0.0139083\ttotal: 462ms\tremaining: 342ms\n",
      "115:\tlearn: 0.0137725\ttotal: 465ms\tremaining: 337ms\n",
      "116:\tlearn: 0.0137717\ttotal: 468ms\tremaining: 332ms\n",
      "117:\tlearn: 0.0137679\ttotal: 470ms\tremaining: 327ms\n",
      "118:\tlearn: 0.0137671\ttotal: 473ms\tremaining: 322ms\n",
      "119:\tlearn: 0.0137670\ttotal: 475ms\tremaining: 317ms\n",
      "120:\tlearn: 0.0137660\ttotal: 478ms\tremaining: 312ms\n",
      "121:\tlearn: 0.0137659\ttotal: 480ms\tremaining: 307ms\n",
      "122:\tlearn: 0.0136846\ttotal: 483ms\tremaining: 303ms\n",
      "123:\tlearn: 0.0134895\ttotal: 486ms\tremaining: 298ms\n",
      "124:\tlearn: 0.0133256\ttotal: 490ms\tremaining: 294ms\n",
      "125:\tlearn: 0.0131977\ttotal: 493ms\tremaining: 290ms\n",
      "126:\tlearn: 0.0130143\ttotal: 496ms\tremaining: 285ms\n",
      "127:\tlearn: 0.0128503\ttotal: 500ms\tremaining: 281ms\n",
      "128:\tlearn: 0.0127010\ttotal: 503ms\tremaining: 277ms\n",
      "129:\tlearn: 0.0124894\ttotal: 506ms\tremaining: 272ms\n",
      "130:\tlearn: 0.0124468\ttotal: 510ms\tremaining: 269ms\n",
      "131:\tlearn: 0.0122429\ttotal: 513ms\tremaining: 264ms\n",
      "132:\tlearn: 0.0121992\ttotal: 516ms\tremaining: 260ms\n",
      "133:\tlearn: 0.0119678\ttotal: 519ms\tremaining: 256ms\n",
      "134:\tlearn: 0.0117278\ttotal: 523ms\tremaining: 252ms\n",
      "135:\tlearn: 0.0116877\ttotal: 526ms\tremaining: 247ms\n",
      "136:\tlearn: 0.0116299\ttotal: 529ms\tremaining: 243ms\n",
      "137:\tlearn: 0.0115541\ttotal: 533ms\tremaining: 239ms\n",
      "138:\tlearn: 0.0114630\ttotal: 536ms\tremaining: 235ms\n",
      "139:\tlearn: 0.0113363\ttotal: 540ms\tremaining: 231ms\n",
      "140:\tlearn: 0.0111940\ttotal: 543ms\tremaining: 227ms\n",
      "141:\tlearn: 0.0110808\ttotal: 546ms\tremaining: 223ms\n",
      "142:\tlearn: 0.0110272\ttotal: 550ms\tremaining: 219ms\n",
      "143:\tlearn: 0.0108499\ttotal: 553ms\tremaining: 215ms\n",
      "144:\tlearn: 0.0107615\ttotal: 556ms\tremaining: 211ms\n",
      "145:\tlearn: 0.0104686\ttotal: 559ms\tremaining: 207ms\n",
      "146:\tlearn: 0.0102181\ttotal: 563ms\tremaining: 203ms\n",
      "147:\tlearn: 0.0100604\ttotal: 566ms\tremaining: 199ms\n",
      "148:\tlearn: 0.0099035\ttotal: 572ms\tremaining: 196ms\n",
      "149:\tlearn: 0.0097541\ttotal: 576ms\tremaining: 192ms\n",
      "150:\tlearn: 0.0095633\ttotal: 580ms\tremaining: 188ms\n",
      "151:\tlearn: 0.0094474\ttotal: 583ms\tremaining: 184ms\n",
      "152:\tlearn: 0.0092809\ttotal: 585ms\tremaining: 180ms\n",
      "153:\tlearn: 0.0091966\ttotal: 588ms\tremaining: 176ms\n",
      "154:\tlearn: 0.0090245\ttotal: 591ms\tremaining: 172ms\n",
      "155:\tlearn: 0.0088747\ttotal: 594ms\tremaining: 167ms\n",
      "156:\tlearn: 0.0088746\ttotal: 596ms\tremaining: 163ms\n",
      "157:\tlearn: 0.0087951\ttotal: 599ms\tremaining: 159ms\n",
      "158:\tlearn: 0.0087123\ttotal: 602ms\tremaining: 155ms\n",
      "159:\tlearn: 0.0086769\ttotal: 605ms\tremaining: 151ms\n",
      "160:\tlearn: 0.0086766\ttotal: 607ms\tremaining: 147ms\n",
      "161:\tlearn: 0.0086765\ttotal: 609ms\tremaining: 143ms\n",
      "162:\tlearn: 0.0086733\ttotal: 612ms\tremaining: 139ms\n",
      "163:\tlearn: 0.0086730\ttotal: 614ms\tremaining: 135ms\n",
      "164:\tlearn: 0.0086727\ttotal: 617ms\tremaining: 131ms\n",
      "165:\tlearn: 0.0086726\ttotal: 620ms\tremaining: 127ms\n",
      "166:\tlearn: 0.0085973\ttotal: 623ms\tremaining: 123ms\n",
      "167:\tlearn: 0.0084563\ttotal: 626ms\tremaining: 119ms\n",
      "168:\tlearn: 0.0083375\ttotal: 629ms\tremaining: 115ms\n",
      "169:\tlearn: 0.0081824\ttotal: 632ms\tremaining: 112ms\n",
      "170:\tlearn: 0.0081822\ttotal: 635ms\tremaining: 108ms\n",
      "171:\tlearn: 0.0081807\ttotal: 638ms\tremaining: 104ms\n",
      "172:\tlearn: 0.0081808\ttotal: 640ms\tremaining: 99.9ms\n",
      "173:\tlearn: 0.0081673\ttotal: 643ms\tremaining: 96.1ms\n",
      "174:\tlearn: 0.0081670\ttotal: 646ms\tremaining: 92.2ms\n",
      "175:\tlearn: 0.0081671\ttotal: 648ms\tremaining: 88.4ms\n",
      "176:\tlearn: 0.0081669\ttotal: 650ms\tremaining: 84.5ms\n",
      "177:\tlearn: 0.0081653\ttotal: 653ms\tremaining: 80.7ms\n",
      "178:\tlearn: 0.0081651\ttotal: 655ms\tremaining: 76.9ms\n",
      "179:\tlearn: 0.0081641\ttotal: 657ms\tremaining: 73.1ms\n",
      "180:\tlearn: 0.0081638\ttotal: 660ms\tremaining: 69.3ms\n",
      "181:\tlearn: 0.0081635\ttotal: 662ms\tremaining: 65.5ms\n",
      "182:\tlearn: 0.0081609\ttotal: 665ms\tremaining: 61.7ms\n",
      "183:\tlearn: 0.0081609\ttotal: 667ms\tremaining: 58ms\n",
      "184:\tlearn: 0.0081058\ttotal: 669ms\tremaining: 54.3ms\n",
      "185:\tlearn: 0.0079797\ttotal: 672ms\tremaining: 50.6ms\n",
      "186:\tlearn: 0.0079328\ttotal: 675ms\tremaining: 46.9ms\n",
      "187:\tlearn: 0.0079325\ttotal: 677ms\tremaining: 43.2ms\n",
      "188:\tlearn: 0.0079325\ttotal: 679ms\tremaining: 39.5ms\n",
      "189:\tlearn: 0.0079174\ttotal: 682ms\tremaining: 35.9ms\n",
      "190:\tlearn: 0.0079174\ttotal: 684ms\tremaining: 32.2ms\n",
      "191:\tlearn: 0.0079173\ttotal: 686ms\tremaining: 28.6ms\n",
      "192:\tlearn: 0.0079172\ttotal: 688ms\tremaining: 25ms\n",
      "193:\tlearn: 0.0079171\ttotal: 690ms\tremaining: 21.3ms\n",
      "194:\tlearn: 0.0079172\ttotal: 692ms\tremaining: 17.7ms\n",
      "195:\tlearn: 0.0079170\ttotal: 694ms\tremaining: 14.2ms\n",
      "196:\tlearn: 0.0079170\ttotal: 696ms\tremaining: 10.6ms\n",
      "197:\tlearn: 0.0079165\ttotal: 698ms\tremaining: 7.05ms\n",
      "198:\tlearn: 0.0079164\ttotal: 700ms\tremaining: 3.52ms\n",
      "199:\tlearn: 0.0079147\ttotal: 702ms\tremaining: 0us\n",
      "AUC:0.816\n",
      "accuracy:0.739\n",
      "recall:0.700\n",
      "precision:0.130\n",
      "specificity:0.741\n",
      "prevalence:0.052\n",
      " \n"
     ]
    }
   ],
   "source": [
    "catb=CatBoostClassifier(iterations=200, depth=3, learning_rate=1.0, random_state = 111)\n",
    "catb.fit(X_train, y_train)\n",
    "catb_preds = catb.predict_proba(X_valid)[:, 1]\n",
    "\n",
    "lr_valid_auc, lr_valid_accuracy, lr_valid_recall, \\\n",
    "    lr_valid_precision, lr_valid_specificity = print_report(y_valid,catb_preds, 0.5)"
   ]
  },
  {
   "cell_type": "markdown",
   "id": "e6128b0e",
   "metadata": {},
   "source": [
    "# Hyper Parameter Tuning"
   ]
  },
  {
   "cell_type": "markdown",
   "id": "6ccb5ce3",
   "metadata": {},
   "source": [
    "* From the above models we will choose two models for demonstration i.e. Random Forest, Decision Trees for hyper-parameter tuning.\n",
    "* Generally you can pick up the top three models based on the 'AUC', 'Recall' or 'F1 score' score and tune them.\n",
    "\n",
    "There are many techniques for hyper-parameter tuning:\n",
    "\n",
    "* Random Search\n",
    "* Grid Search\n",
    "* Halving Grid Search(added recently in sklearn)\n",
    "\n",
    "Special Note:\n",
    "* It will take significant time to run Hyper Parameter Tuning \n",
    "* Timing will depend on available resources of server"
   ]
  },
  {
   "cell_type": "code",
   "execution_count": 27,
   "id": "367dc1c8",
   "metadata": {},
   "outputs": [],
   "source": [
    "recall_scoring = make_scorer(recall_score)"
   ]
  },
  {
   "cell_type": "markdown",
   "id": "2f75172b",
   "metadata": {},
   "source": [
    "## Decision Tree - Hyper Parameter Tuning"
   ]
  },
  {
   "cell_type": "code",
   "execution_count": 28,
   "id": "c4a7af70",
   "metadata": {},
   "outputs": [
    {
     "name": "stdout",
     "output_type": "stream",
     "text": [
      "Fitting 2 folds for each of 20 candidates, totalling 40 fits\n"
     ]
    },
    {
     "data": {
      "text/plain": [
       "0.809486914600551"
      ]
     },
     "execution_count": 28,
     "metadata": {},
     "output_type": "execute_result"
    }
   ],
   "source": [
    "dc_grid = {'max_features':['auto','sqrt'], # maximum number of features to use at each split\n",
    "           'max_depth':range(1,11,1), # maximum depth of the tree\n",
    "           'min_samples_split':range(2,10,2), # minimum number of samples to split a node\n",
    "           'criterion':['gini','entropy']} # criterion for evaluating a split\n",
    "\n",
    "dc_random = RandomizedSearchCV(estimator = dc_clf, param_distributions = dc_grid, \n",
    "                               n_iter = 20, cv = 2, scoring=recall_scoring,\n",
    "                               verbose = 1, random_state = 111)\n",
    "\n",
    "dc_random.fit(X_train, y_train)\n",
    "\n",
    "dc_random.best_params_\n",
    "\n",
    "dc_hp_preds = dc_random.best_estimator_.predict(X_valid)\n",
    "dc_hp_preds_proba = dc_random.best_estimator_.predict_proba(X_valid)[:,1]\n",
    "roc_auc_score(y_valid, dc_hp_preds_proba)"
   ]
  },
  {
   "cell_type": "code",
   "execution_count": 29,
   "id": "9af302e1",
   "metadata": {},
   "outputs": [
    {
     "data": {
      "text/plain": [
       "0.85"
      ]
     },
     "execution_count": 29,
     "metadata": {},
     "output_type": "execute_result"
    }
   ],
   "source": [
    "recall_score(y_valid, dc_hp_preds)"
   ]
  },
  {
   "cell_type": "markdown",
   "id": "588787d3",
   "metadata": {},
   "source": [
    "## Random Forest - Hyper Parameter Tuning"
   ]
  },
  {
   "cell_type": "code",
   "execution_count": 30,
   "id": "d7f41f64",
   "metadata": {},
   "outputs": [
    {
     "name": "stdout",
     "output_type": "stream",
     "text": [
      "Fitting 2 folds for each of 20 candidates, totalling 40 fits\n"
     ]
    },
    {
     "data": {
      "text/plain": [
       "0.824862258953168"
      ]
     },
     "execution_count": 30,
     "metadata": {},
     "output_type": "execute_result"
    }
   ],
   "source": [
    "rf_grid = {'n_estimators':range(200,1000,200), # number of trees\n",
    "           'max_features':['auto','sqrt'], # maximum number of features to use at each split\n",
    "           'max_depth':range(1,11,1), # maximum depth of the tree\n",
    "           'min_samples_split':range(2,10,2), # minimum number of samples to split a node\n",
    "           'criterion':['gini','entropy']} # criterion for evaluating a split\n",
    "\n",
    "rf_random = RandomizedSearchCV(estimator = rf_clf, param_distributions = rf_grid, \n",
    "                               n_iter = 20, cv = 2, scoring=recall_scoring,\n",
    "                               verbose = 1, random_state = 111)\n",
    "\n",
    "rf_random.fit(X_train, y_train)\n",
    "\n",
    "rf_random.best_params_\n",
    "\n",
    "rf_hp_preds = rf_random.best_estimator_.predict(X_valid)\n",
    "rf_hp_preds_proba = rf_random.best_estimator_.predict_proba(X_valid)[:,1]\n",
    "roc_auc_score(y_valid, rf_hp_preds_proba)"
   ]
  },
  {
   "cell_type": "code",
   "execution_count": 31,
   "id": "8e9765ce",
   "metadata": {},
   "outputs": [
    {
     "data": {
      "text/plain": [
       "0.825"
      ]
     },
     "execution_count": 31,
     "metadata": {},
     "output_type": "execute_result"
    }
   ],
   "source": [
    "recall_score(y_valid, rf_hp_preds)"
   ]
  },
  {
   "cell_type": "markdown",
   "id": "1d26f2a0",
   "metadata": {},
   "source": [
    "## XGBoost - Hyper Parameter Tuning"
   ]
  },
  {
   "cell_type": "code",
   "execution_count": 32,
   "id": "7bd2859b",
   "metadata": {},
   "outputs": [
    {
     "name": "stdout",
     "output_type": "stream",
     "text": [
      "Fitting 2 folds for each of 720 candidates, totalling 1440 fits\n"
     ]
    },
    {
     "data": {
      "text/plain": [
       "0.8310261707988982"
      ]
     },
     "execution_count": 32,
     "metadata": {},
     "output_type": "execute_result"
    }
   ],
   "source": [
    "xgb_grid = params = {\n",
    "        'min_child_weight': [1, 5, 8, 10],\n",
    "        'gamma': [0.5, 1, 1.5, 2, 5],\n",
    "        'subsample': [0.6, 0.8, 1.0],\n",
    "        'colsample_bytree': [0.6, 0.8, 0.9, 1.0],\n",
    "        'max_depth': [3, 4, 5]\n",
    "        } # criterion for evaluating a split\n",
    "\n",
    "xgb_random = GridSearchCV(estimator = xgb_clf, param_grid = xgb_grid, \n",
    "                               cv = 2, scoring = recall_scoring,\n",
    "                               verbose = 1)\n",
    "\n",
    "xgb_random.fit(X_train, y_train)\n",
    "\n",
    "xgb_random.best_params_\n",
    "\n",
    "xgb_hp_preds = xgb_random.best_estimator_.predict(X_valid)\n",
    "xgb_hp_preds_proba = xgb_random.best_estimator_.predict_proba(X_valid)[:,1]\n",
    "roc_auc_score(y_valid, xgb_hp_preds_proba)"
   ]
  },
  {
   "cell_type": "code",
   "execution_count": 33,
   "id": "5f6d46c6",
   "metadata": {},
   "outputs": [
    {
     "data": {
      "text/plain": [
       "0.775"
      ]
     },
     "execution_count": 33,
     "metadata": {},
     "output_type": "execute_result"
    }
   ],
   "source": [
    "recall_score(y_valid, xgb_hp_preds)"
   ]
  },
  {
   "cell_type": "markdown",
   "id": "6f735fa9",
   "metadata": {},
   "source": [
    "### Comparing Hyper Parameter Tuning Results\n",
    "* We can see that even after the hyper-parameter tuning XGB is not performing well as compared to Decision Tree and Random Forest.\n",
    "* To choose the best model we need to take a look at a better AUC and recall score(for our use-case). As per the scores above we can see that the Decision Tree and Random Forest are both close but it would be better to choose Random Forest as it reduces the variance.\n",
    "* We can even try to use Halving Grid Search and try to experiment with more parameters to have an exhaustive search."
   ]
  },
  {
   "cell_type": "markdown",
   "id": "3f629230",
   "metadata": {},
   "source": [
    "# Summary of Model Results and Findings"
   ]
  },
  {
   "cell_type": "markdown",
   "id": "45a8ec85",
   "metadata": {},
   "source": [
    "* We can see that this is a tricky dataset and therefore the normal models might not work, we would need to further use hyper-parameter tuning to improve the performance. To learn about hyper-parameter tuning click [here](https://scikit-learn.org/stable/modules/grid_search.html).\n",
    "* Deep Learning techniques can also be used as they can prove to be really effective in such tricky datasets. One can use `CNN(Convolutional Neural Network)` for this or can also try to use `RNN(Recurrent Neural Network)`.\n",
    "\n",
    "In this notebook we have created a binary classifier to predict the probability that a patient with certain condition would get a stroke or not. On held out test data, our best model had a recall of of 0.83. Using this model, we are able to catch 83% of the patients with stroke correctly. While building the models we have focussed on making sure that we have the least number of false negatives and therefore we have used recall as the metric. "
   ]
  }
 ],
 "metadata": {
  "kernelspec": {
   "display_name": "Python 3",
   "language": "python",
   "name": "python3"
  },
  "language_info": {
   "codemirror_mode": {
    "name": "ipython",
    "version": 3
   },
   "file_extension": ".py",
   "mimetype": "text/x-python",
   "name": "python",
   "nbconvert_exporter": "python",
   "pygments_lexer": "ipython3",
   "version": "3.10.10"
  }
 },
 "nbformat": 4,
 "nbformat_minor": 5
}
